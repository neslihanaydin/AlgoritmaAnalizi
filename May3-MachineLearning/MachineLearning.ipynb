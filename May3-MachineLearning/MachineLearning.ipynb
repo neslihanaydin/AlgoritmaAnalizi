{
 "cells": [
  {
   "cell_type": "code",
   "execution_count": 31,
   "metadata": {
    "collapsed": false
   },
   "outputs": [],
   "source": [
    "from __future__ import print_function, division\n",
    "from future.utils import iteritems\n",
    "from builtins import range, input\n",
    "import numpy as np\n",
    "from datetime import datetime\n",
    "from scipy.stats import norm\n",
    "import pandas as pd\n",
    "\n",
    "from scipy.stats import multivariate_normal as mvn\n",
    "\n",
    "class NaiveBayes(object):\n",
    "    def fit(self, X, Y, smoothing=1e-2): #smoothing sıfıra bölme hatasını engellemek için , X : 1x784 ( BW) boyutlu 0-1 Y: rakam karşılığı\n",
    "        self.gaussians = dict() # null olmasın diye başlangıçta oluşturduk\n",
    "        self.priors = dict()\n",
    "        labels = set(Y) \n",
    "        for c in labels:\n",
    "            current_x = X[Y == c]\n",
    "            self.gaussians[c] = {\n",
    "                'mean': current_x.mean(axis=0),\n",
    "                'var': current_x.var(axis=0) + smoothing,\n",
    "            }\n",
    "            self.priors[c] = float(len(Y[Y == c])) / len(Y)\n",
    "    \n",
    "    def score(self, X, Y):\n",
    "        P = self.predict(X)\n",
    "        return np.mean(P == Y)\n",
    "\n",
    "    def predict(self, X):\n",
    "        N, D = X.shape\n",
    "        K = len(self.gaussians)\n",
    "        P = np.zeros((N, K))\n",
    "        for c, g in iteritems(self.gaussians):\n",
    "            mean, var = g['mean'], g['var']\n",
    "            P[:,c] = mvn.logpdf(X, mean=mean, cov=var) + np.log(self.priors[c])\n",
    "        return np.argmax(P, axis=1)\n",
    "def get_data(limit=None):\n",
    "    print(\"Reading in and transforming data...\")\n",
    "    df = pd.read_csv('train.csv')\n",
    "    data = df.values\n",
    "    np.random.shuffle(data)\n",
    "    X = data[:, 1:] / 255.0 # data is from 0..255\n",
    "    Y = data[:, 0]\n",
    "    if limit is not None:\n",
    "        X, Y = X[:limit], Y[:limit]\n",
    "    return X, Y"
   ]
  },
  {
   "cell_type": "markdown",
   "metadata": {},
   "source": [
    "X : de 5000 tane veri var her birinin boyutu 1x786,\n",
    "Y : de 5000 tane veri var her birinin boyutu 1x1\n",
    "\n",
    "set(Y) # her bir veriyi ağaç yapısı olarak alıyormuş\n",
    "\n",
    "# set(Y) 'nin karmaşıklığı nedir ?\n",
    "\n",
    "5000 taneyi dolaş bunlardan bir tane set labels oluştur . Dolayısıyla karmaşıklık 5000 dir.\n",
    "Örnek :\n",
    "liste var L1 = [1,2,1,4,6,1,2,3,0]\n",
    "labels = [1,2,4,6,3,0]\n",
    "şeklinde oluyor.Ama hepsini dolaşmak zorunda olduğu için karmaşıklık O(n)\n",
    "\n",
    "# for c in labels : karmaşıklığı : O(|labels|)\n",
    "\n",
    "    ## current_x = X[Y == c] \n",
    "başlangıçta c = 0 Y değeri 5000 tane y nin 0 olduğu değerleri alıp x'e yaz diyor\n",
    "yani y si c ile uyumlu olan x leri al diyor.\n",
    "1 2 1 0 2   0\n",
    "1 0 3 2 0   0\n",
    "3 2 0 1 3   1\n",
    "_________   __\n",
    "      x      y\n",
    "      \n",
    "c_x = X[y==0]\n",
    "        => 1 2 1 0 2\n",
    "           1 0 3 2 0\n",
    "           \n",
    "# Yani for c in label : karmaşıklık \n",
    "\n",
    "    #### current_x = X[Y == c] -> O(n.m)\n",
    "    #### self.gaussians[c]   -> O(s.m)  s: of instance of '7' m:786\n",
    "   \n",
    "# self.priors[c] = float(len(Y[Y == c])) / len(Y)\n",
    "    \n",
    "    7 den kaç tane var , yüzdelik olarak hesaplıyor. Karmaşıklık Y sayısı yani n'dir. O(n)"
   ]
  },
  {
   "cell_type": "markdown",
   "metadata": {},
   "source": [
    "# Predict(self, x) : Karmaşıklığı\n",
    "\n",
    "### for c, g in iteritems(self.gaussians):\n",
    "    \n",
    "    * gaussian sayısı 10 \n",
    "    # mean, var = g['mean'], g['var']\n",
    "      P[:,c] = mvn.logpdf(X, mean=mean, cov=var) + np.log(self.priors[c])\n",
    "      \n",
    "      Yukarıdaki kodlarda bir formül olduğu için kısaca O(1) diyebiliriz.\n",
    "      \n",
    "      O halde for döngüsünün karmaşıklığı 10Dur.\n",
    "### return np.argmax(P, axis=1)\n",
    "       \n",
    "       bu kodda da yine 10 boyutlu olduğu için karmaşıklık 10'dur\n",
    "        "
   ]
  },
  {
   "cell_type": "code",
   "execution_count": 32,
   "metadata": {
    "collapsed": false
   },
   "outputs": [
    {
     "name": "stdout",
     "output_type": "stream",
     "text": [
      "Reading in and transforming data...\n",
      "Training time: 0:00:00.124800\n",
      "Train accuracy: 0.8188\n",
      "Time to compute train accuracy: 0:00:07.032800 Train size: 5000\n",
      "Test accuracy: 0.7958\n",
      "Time to compute test accuracy: 0:00:05.555400 Test size: 5000\n"
     ]
    }
   ],
   "source": [
    "X, Y = get_data(10000)\n",
    "Ntrain = len(Y) // 2\n",
    "Xtrain, Ytrain = X[:Ntrain], Y[:Ntrain]\n",
    "Xtest, Ytest = X[Ntrain:], Y[Ntrain:]\n",
    "\n",
    "model = NaiveBayes()\n",
    "t0 = datetime.now()\n",
    "model.fit(Xtrain, Ytrain)\n",
    "print(\"Training time:\", (datetime.now() - t0))\n",
    "\n",
    "t0 = datetime.now()\n",
    "print(\"Train accuracy:\", model.score(Xtrain, Ytrain))\n",
    "print(\"Time to compute train accuracy:\", (datetime.now() - t0), \"Train size:\", len(Ytrain))\n",
    "\n",
    "t0 = datetime.now()\n",
    "print(\"Test accuracy:\", model.score(Xtest, Ytest))\n",
    "print(\"Time to compute test accuracy:\", (datetime.now() - t0), \"Test size:\", len(Ytest))\n"
   ]
  },
  {
   "cell_type": "code",
   "execution_count": null,
   "metadata": {
    "collapsed": true
   },
   "outputs": [],
   "source": []
  }
 ],
 "metadata": {
  "kernelspec": {
   "display_name": "Python [default]",
   "language": "python",
   "name": "python3"
  },
  "language_info": {
   "codemirror_mode": {
    "name": "ipython",
    "version": 3
   },
   "file_extension": ".py",
   "mimetype": "text/x-python",
   "name": "python",
   "nbconvert_exporter": "python",
   "pygments_lexer": "ipython3",
   "version": "3.5.2"
  }
 },
 "nbformat": 4,
 "nbformat_minor": 1
}
